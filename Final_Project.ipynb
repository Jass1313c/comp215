{
  "nbformat": 4,
  "nbformat_minor": 0,
  "metadata": {
    "colab": {
      "provenance": [],
      "authorship_tag": "ABX9TyNH6378hfk4t2VnCBmpXILm",
      "include_colab_link": true
    },
    "kernelspec": {
      "name": "python3",
      "display_name": "Python 3"
    },
    "language_info": {
      "name": "python"
    }
  },
  "cells": [
    {
      "cell_type": "markdown",
      "metadata": {
        "id": "view-in-github",
        "colab_type": "text"
      },
      "source": [
        "<a href=\"https://colab.research.google.com/github/Jass1313c/comp215/blob/main/Final_Project.ipynb\" target=\"_parent\"><img src=\"https://colab.research.google.com/assets/colab-badge.svg\" alt=\"Open In Colab\"/></a>"
      ]
    },
    {
      "cell_type": "code",
      "execution_count": null,
      "metadata": {
        "id": "sqEZ4aNRYr4F"
      },
      "outputs": [],
      "source": [
        "import datetime, json, requests\n",
        "from pprint import pprint\n",
        "\n",
        "param = { \"format\": \"geojson\", \"starttime\": \"2024-11-14\",\"limit\": 20000, \"endtime\": \"2024-11-15\", \"minmagnitude\": 3.6,}\n",
        "url = \"https://earthquake.usgs.gov/fdsnws/event/1/query\"\n",
        "response = requests.get(url, params=param)\n",
        "data = json.loads(response.text)\n",
        "\n",
        "pprint(f\"Count: {data['metadata']['count']}\")\n",
        "\n",
        "pprint(data)\n",
        "\n",
        "pprint(f\"Count: {data['metadata']['count']}\")\n",
        "\n",
        "for feature in data['features']:\n",
        "    print(f\"Mag: {feature['properties']['mag']}, Place: {feature['properties']['place']}, Time: {datetime.datetime.fromtimestamp(feature['properties']['time'] / 1000)}\")"
      ]
    },
    {
      "cell_type": "code",
      "source": [
        "import datetime, json, requests\n",
        "from pprint import pprint\n",
        "\n",
        "\n",
        "url = \"https://data.nasa.gov/resource/gh4g-9sfh.geojson\"\n",
        "\n",
        "response = requests.get(url)\n",
        "data = json.loads(response.text)\n",
        "\n",
        "pprint(data)"
      ],
      "metadata": {
        "id": "cq5sh_LYvZPl"
      },
      "execution_count": null,
      "outputs": []
    },
    {
      "cell_type": "markdown",
      "source": [],
      "metadata": {
        "id": "oHN-g9Pg7cX3"
      }
    },
    {
      "source": [
        "import datetime, json, requests\n",
        "from pprint import pprint\n",
        "from bs4 import BeautifulSoup\n",
        "\n",
        "url = \"https://volcanoes.usgs.gov/vhp/updates.html\"\n",
        "\n",
        "response = requests.get(url)\n",
        "soup = BeautifulSoup(response.text, 'html.parser')\n",
        "\n",
        "# Find the table containing volcano updates\n",
        "# The original class name might have changed or be incorrect.\n",
        "# Inspect the website's HTML to find the correct table and class name.\n",
        "# Here's an example using a different selector if the table has an id:\n",
        "table = soup.find('table', {'id': 'some_table_id'})\n",
        "\n",
        "# Check if the table was found before proceeding\n",
        "if table:\n",
        "    # Extract data from each row of the table\n",
        "    for row in table.find_all('tr')[1:]:  # Skip the header row\n",
        "        columns = row.find_all('td')\n",
        "        volcano_name = columns[0].text.strip()\n",
        "        update_time = columns[1].text.strip()\n",
        "        update_type = columns[2].text.strip()\n",
        "        update_summary = columns[3].text.strip()\n",
        "\n",
        "        print(f\"Volcano: {volcano_name}\")\n",
        "        print(f\"Update Time: {update_time}\")\n",
        "        print(f\"Update Type: {update_type}\")\n",
        "        print(f\"Update Summary: {update_summary}\")\n",
        "        print(\"-\" * 20)\n",
        "else:\n",
        "    print(\"Table not found. Check the website's HTML for the correct table and class name.\")"
      ],
      "cell_type": "code",
      "metadata": {
        "colab": {
          "base_uri": "https://localhost:8080/"
        },
        "id": "hk7wbd2ZA_Ag",
        "outputId": "43899453-116c-400c-86be-bfa5c3e8ce1d"
      },
      "execution_count": 44,
      "outputs": [
        {
          "output_type": "stream",
          "name": "stdout",
          "text": [
            "Table not found. Check the website's HTML for the correct table and class name.\n"
          ]
        }
      ]
    }
  ]
}