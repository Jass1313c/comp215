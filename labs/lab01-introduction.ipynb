{
  "nbformat": 4,
  "nbformat_minor": 0,
  "metadata": {
    "colab": {
      "provenance": [],
      "include_colab_link": true
    },
    "kernelspec": {
      "name": "python3",
      "display_name": "Python 3"
    },
    "language_info": {
      "name": "python"
    }
  },
  "cells": [
    {
      "cell_type": "markdown",
      "metadata": {
        "id": "view-in-github",
        "colab_type": "text"
      },
      "source": [
        "<a href=\"https://colab.research.google.com/github/Jass1313c/comp215/blob/main/labs/lab01-introduction.ipynb\" target=\"_parent\"><img src=\"https://colab.research.google.com/assets/colab-badge.svg\" alt=\"Open In Colab\"/></a>"
      ]
    },
    {
      "cell_type": "markdown",
      "source": [
        "COMP 215 - LAB 1  \n",
        "----------------\n",
        "#### Name(s):\n",
        "#### Date:\n",
        "\n",
        "\n",
        "By the end of this lab you should be able to:\n",
        "- write Python code using Google Colaboratory (Colab)\n",
        "- save the code in GitHub\n",
        "- submit the code on eLearn  \n",
        "\n",
        "\n",
        "During this lab, you will be introduced to the following:\n",
        "- Application Programming Interfaces (API's)\n",
        "- JSON data formats\n",
        "- list comprehension in Python\n",
        "- plotting with matplotlib  \n",
        "\n"
      ],
      "metadata": {
        "id": "pOyyAVje7cBQ"
      }
    },
    {
      "cell_type": "markdown",
      "source": [
        "## GitHub Introduction\n",
        "\n",
        "GitHub is a code “repository” where many professional programmers keep their software projects, especially for open-source projects. It runs the “git” version control system to track all changes made to a project over time. Colab and GitHub play (relatively) nicely together, so this is a perfect opportunity to start using GitHub, and start building your own portfolio of code projects.  To start, watch this [What is GitHub?](https://www.youtube.com/watch?v=pBy1zgt0XPc) video.\n",
        "\n",
        "\n",
        "\n",
        "1.   If you don't already have one, get a GitHub account by going to [github.com](github.com) to create an account.  Remember this account might be a long-term prospect, so choose your username thinking about the future.\n",
        "\n",
        "2.   Complete the [GitHub 'Hello World' tutorial](https://docs.github.com/en/get-started/start-your-journey/hello-world).  This will introduce you to the basic ideas of GitHub.  For this course, you will *fork* (ie. make a copy of) the *main branch* (ie. current version) of the `comp215` *repository* (ie. files and folders of code).  You will complete all your work in your *fork*.  You will **not** need to do a *pull request* to *merge* your changes because you will be submitting work in your *fork*.  After completing the GitHub 'Hello World' tutorial, you should understand the italicized words.    \n",
        "\n",
        "3. In your GitHub account, fork the `comp215` repo: [https://github.com/Hamilton-at-CapU/comp215/](https://github.com/Hamilton-at-CapU/comp215).  This is now your personal copy you can edit and make changes to.  You will be using this fork to submit your code in this course.\n",
        "\n",
        "Note that GitHub stores your code, it does not run your code.  We will be using Google Colaboratory to run the code.\n"
      ],
      "metadata": {
        "id": "MbrT5o5EJ9V9"
      }
    },
    {
      "cell_type": "markdown",
      "source": [
        "## Google Colaboratory Introduction\n",
        "\n",
        "You will need a Google gmail account to access and use Colab.  You can use your personal gmail account, or you can create a gmail account just for this class.\n",
        "\n",
        "Accroding to the Google AI Overview;\n",
        "  *  *Google Colaboratory (Colab), is a free, cloud-based environment for writing and running Python code in a browser. It's a popular tool in the data science and machine learning communities for tasks that require a lot of computing power, such as: Analyzing large amounts of data, Training machine learning models, and Testing deep learning algorithms.*  \n",
        "\n",
        "Colab is an online interactive Python notebook environment.  An interactive notebook is a programming environment that allows you to interlace code, formatted text, data, and graphical output all in a single document. These notebooks are easy to distribute on the web and can be viewed and executed without any additional software installation or configuration, making them an ideal platform for sharing research and analysis. They are widely used in scientific computing and in data science applications where the emphasis is on using code to clearly communicate rather than building an end-user app.  Interactive Python notebooks use the file extension `.ipynb` instead of `.py`.  \n",
        "\n",
        "You can find more information about Jupyter Notebooks at [jupyter.org](https://jupyter.org/).  Note that you do not need to install Jupyter on your computer because we are using Colab.  In a notebook you write the code in Python and the text in a language called Markdown.  You can find more information about the Markdown language at [markdownguide.org](https://www.markdownguide.org).  We will be using Colab in this course as the default (but not required) Integrated Development Environment (IDE) for you to write and run Python code.  \n",
        "\n",
        " 1. Go to [colab.research.google.com](colab.research.google.com)\n",
        " 2. Log in with your Google (ie. gmail) account.  If you do not already have one, or do not want to use your personal Google account for this course, then please create a Google account specifically for this course.\n",
        " 3. Create a \"New Notebook\" to write and run a 'hello world' program just to be sure your account works.  You can delete the new notebook after checking that Colab is working for you.\n",
        "\n"
      ],
      "metadata": {
        "id": "4QIdt5aV7sF9"
      }
    },
    {
      "cell_type": "markdown",
      "source": [
        "## Colab & GitHub\n",
        "\n",
        "You can now open the Notebooks from your GitHub repository in Colab.  \n",
        "\n",
        "1. In your `comp215` fork, go to `labs` folder and open `lab01_introduction.ipynb`.  Open the file in Google Colaboratory using the [![Open In Colab](https://colab.research.google.com/assets/colab-badge.svg)](https://colab.research.google.com/github/Hamilton-at-CapU/comp215/blob/main/labs/lab01_introduction.ipynb) button at the top of the file.  Alternatively, for any Python Notebook (`.ipynb` file) in GitHub you can replace in the address bar:\n",
        "```\n",
        "github.com → colab.research.google.com/github\n",
        "```\n",
        "to open the Notebook in Colab.  For example:\n",
        " - in GitHub, this Notebook is ```github.com/Hamilton-at-CapU/comp215/blob/main/labs/lab01-introduction.ipynb```\n",
        " - in Colab, this Notebook is ```colab.research.google.com/github/Hamilton-at-CapU/comp215/blob/main/labs/lab01-introduction.ipynb```\n",
        "\n",
        "2. Alternatively, you can go to [colab.research.google.com](colab.research.google.com) and open the GitHub files directly in the \"Open Notebook\" pop-up window that appears.\n",
        "\n",
        "Continue with the rest of this lab in Colab.  \n",
        "\n"
      ],
      "metadata": {
        "id": "fCe-XcsEpkDO"
      }
    },
    {
      "cell_type": "markdown",
      "source": [
        "## Committing (saving) changes to GitHub and submitting your lab on eLearn\n",
        "\n",
        "Below is a code block.  Write a 'hello world' print statement in the code block and run it."
      ],
      "metadata": {
        "id": "RZZqUelwFnJK"
      }
    },
    {
      "cell_type": "code",
      "source": [
        "# This is a code block.\n"
      ],
      "metadata": {
        "id": "FplkLRHd7l87"
      },
      "execution_count": null,
      "outputs": []
    },
    {
      "cell_type": "markdown",
      "source": [
        "#### Text Blocks\n",
        "\n",
        "Below is a text block.  Write 'hello world' in the text block in bold-italic font.\n"
      ],
      "metadata": {
        "id": "HyMeaa4_F4rL"
      }
    },
    {
      "cell_type": "markdown",
      "source": [
        "This is a text block.\n"
      ],
      "metadata": {
        "id": "dJxi9-mJGkjg"
      }
    },
    {
      "cell_type": "markdown",
      "source": [
        "\n",
        "\n",
        " - Now that you have edited the Colab file, it's time to `commit` (ie. save) the changes to your GitHub repository.  Click the `Save in GitHub to keep changes` in the Colab menu bar to save your changes to your GitHub repository.\n",
        " - A window will pop up, allowing you to select which repository, branch, and file path to commit it to (the defaults should be correct), as well as enter a `Commit message`.  This `Commit message` appears in GitHub beside the filename; it is meant to be a short reminder of what you last changed in the file.  So, something like 'first commit' would make sense for this one.  There is also an `Include a link to Colab` tick box, please select it so that I can easily open your code from GitHub.  \n",
        " - Go to GitHub and check that your changes were committed to your repository.\n",
        " - Submit your lab by copying the URL of your lab file in GitHub to the submission link in eLearn.  The URL should be something like:\n",
        "\n",
        " ```https://github.com/YourAwesomeUsername/comp215/blob/main/labs/lab01_introduction.ipynb```\n",
        "\n",
        " (note that it is a link to github.com, not colab.research.google.com)\n",
        " - You can now continue to edit your code in Colab, commit the changes to GitHub, and the link you submitted on eLearn will include the new commits.  I will be able to see the date/time and changes of each of your GitHub commits, so please don't commit any changes after the due date of the lab."
      ],
      "metadata": {
        "id": "PC3_SJ9utWtU"
      }
    },
    {
      "cell_type": "markdown",
      "source": [
        "## Finally, now for Some Coding!\n",
        "\n",
        "Now that you understand how to submit your code, let's actaully write some code.  For this first lab we will be plotting some earthquake data from the [U.S. Geological Survey (USGS)](https://www.usgs.gov/programs/earthquake-hazards) [API](https://earthquake.usgs.gov/fdsnws/event/1/).\n",
        "\n",
        "\n",
        "### What is an API?\n",
        "\n",
        "An API (Application Programming interface) is a way for two different applications to communicate. Whilst the term applies to any two programs we are using it to refer to the API of a web service that provides data.  To retrieve data from an API, a request to a remote web server is made.  For example, if you want to build an application which plots stock prices, you would use the API of something like google finance to request the current stock prices (ref [API tutorial](https://colab.research.google.com/github/nestauk/im-tutorials/blob/3-ysi-tutorial/notebooks/APIs/API_tutorial.ipynb)).\n",
        "\n",
        "The code below retrieves earthquake information for all 'green' level earthquakes that occured in 2024 using the ['geojson' format](https://earthquake.usgs.gov/earthquakes/feed/v1.0/geojson.php).  Note that similar information can be retrieved using a [USGS ComCat library](https://code.usgs.gov/ghsc/esi/libcomcat-python/-/blob/main/docs/api.md), but we will not use that method for this lab.\n"
      ],
      "metadata": {
        "id": "6oqOzotm3OU_"
      }
    },
    {
      "cell_type": "code",
      "source": [
        "# imports for API request\n",
        "import requests\n",
        "import json"
      ],
      "metadata": {
        "id": "YGbkm5Bek9V7"
      },
      "execution_count": 2,
      "outputs": []
    },
    {
      "cell_type": "code",
      "source": [
        "# define the API parameters\n",
        "params_dict = {'format': 'geojson', 'starttime': '2024-01-01', 'endtime': '2024-12-31', 'alertlevel': 'green'}\n",
        "api_url = 'https://earthquake.usgs.gov/fdsnws/event/1/query?'\n",
        "\n",
        "# make the API request\n",
        "response = requests.get(api_url, params = params_dict)\n",
        "\n",
        "# convert the response to json format data\n",
        "data = json.loads(response.text)\n",
        "\n",
        "# print out some of the data 'features'\n",
        "for event in (data['features']):\n",
        "  print(event['properties']['time'], event['geometry']['coordinates'], event['properties']['place'], event['properties']['mag'])\n"
      ],
      "metadata": {
        "collapsed": true,
        "id": "s3H_1G9lInu7"
      },
      "execution_count": null,
      "outputs": []
    },
    {
      "cell_type": "markdown",
      "source": [
        "The code below produces a plot showing the longitude and latitude of the earthquakes in the data."
      ],
      "metadata": {
        "id": "kRtmX_U3i0q1"
      }
    },
    {
      "cell_type": "code",
      "source": [
        "# imports for plotting\n",
        "import matplotlib.pyplot as plt"
      ],
      "metadata": {
        "id": "saHhwNf4lDCZ"
      },
      "execution_count": 1,
      "outputs": []
    },
    {
      "cell_type": "code",
      "source": [
        "# extract the longitudes and latitudes for the earthquake events\n",
        "# the following lines of code use Python's \"list comprehension\" to write an accumulator loop\n",
        "# if you are not familiar with list comprehension, look it up!\n",
        "locations = [feature['geometry']['coordinates'] for feature in data['features']]\n",
        "longitudes = [location[0] for location in locations]\n",
        "latitudes = [location[1] for location in locations]\n",
        "\n",
        "# make a matplotlib scatter plot with the longitudes and latitudes\n",
        "# if you are not familiar with matplotlib, look it up!\n",
        "fig, ax = plt.subplots()\n",
        "ax.scatter(longitudes, latitudes, color='y', label='Events')\n",
        "ax.set_xlabel(r'Longitude ($^o$)')\n",
        "ax.set_ylabel(r'Latitude ($^o$)')\n",
        "ax.set_title('Green Level Earthquakes in 2024')\n",
        "plt.show()"
      ],
      "metadata": {
        "id": "wrerODXpjC1e"
      },
      "execution_count": null,
      "outputs": []
    },
    {
      "cell_type": "markdown",
      "source": [
        "### Exercise 1\n",
        "\n",
        "Write a function that takes the year and the alert level ('green', 'yellow', 'orange', or 'red') as parameters and plots the earthquakes that occured that year.  Use the code above as a guide, but do not use list comprehension and do not rely on global variables in your function."
      ],
      "metadata": {
        "id": "vpPpVrtalgzs"
      }
    },
    {
      "cell_type": "code",
      "source": [
        "# your Ex. 1 code here\n",
        "def plot_earthquakes_by_year_and_alert(year, alert_level):\n",
        "\n",
        "    params_dict = {'format': 'geojson', 'starttime': f'{year}-01-01', 'endtime': f'{year}-12-31', 'alertlevel': alert_level}\n",
        "    api_url = 'https://earthquake.usgs.gov/fdsnws/event/1/query?'\n",
        "\n",
        "    response = requests.get(api_url, params = params_dict)\n",
        "\n",
        "    data = json.loads(response.text)\n",
        "\n",
        "\n",
        "    locations = []\n",
        "    for feature in data['features']:\n",
        "        locations.append(feature['geometry']['coordinates'])\n",
        "\n",
        "    longitudes = []\n",
        "    latitudes = []\n",
        "    for location in locations:\n",
        "        longitudes.append(location[0])\n",
        "        latitudes.append(location[1])\n",
        "\n",
        "    fig, ax = plt.subplots()\n",
        "    ax.scatter(longitudes, latitudes, color='y', label='Events')\n",
        "    ax.set_xlabel(r'Longitude ()')\n",
        "    ax.set_ylabel(r'Latitude ()')\n",
        "    ax.set_title(f'{alert_level.capitalize()} Level Earthquakes in {year}')\n",
        "    plt.show()\n",
        "\n",
        "\n",
        "plot_earthquakes_by_year_and_alert(2023, 'green')"
      ],
      "metadata": {
        "id": "1YTjeacsn3jZ",
        "outputId": "51e83335-625b-4384-b2da-63e30f7512f4",
        "colab": {
          "base_uri": "https://localhost:8080/",
          "height": 472
        }
      },
      "execution_count": 3,
      "outputs": [
        {
          "output_type": "display_data",
          "data": {
            "text/plain": [
              "<Figure size 640x480 with 1 Axes>"
            ],
            "image/png": "[encoded data removed]"
          },
          "metadata": {}
        }
      ]
    },
    {
      "cell_type": "markdown",
      "source": [
        "### Challenge Exercise\n",
        "\n",
        "Write a function that takes a start date and end date as parameters and plots all four levels of earthquakes ('green', 'yellow', 'orange' and 'red') on a single plot."
      ],
      "metadata": {
        "id": "Z90QkOGTxxmC"
      }
    },
    {
      "cell_type": "code",
      "source": [
        "# your Challenge Ex. code here\n",
        "def plot_all_alert_levels(start_date, end_date):\n",
        "\n",
        "  api_url = 'https://earthquake.usgs.gov/fdsnws/event/1/query?'\n",
        "  alert_levels = ['green', 'yellow', 'orange', 'red']\n",
        "  colors = {'green': 'green', 'yellow': 'yellow', 'orange': 'orange', 'red': 'red'}\n",
        "\n",
        "  alert_data = {level: {'longitudes': [], 'latitudes': []} for level in alert_levels}\n",
        "\n",
        "\n",
        "  for alert_level in alert_levels:\n",
        "    params_dict = {'format': 'geojson', 'starttime': start_date, 'endtime': end_date, 'alertlevel': level}\n",
        "    response = requests.get(api_url, params = params_dict)\n",
        "\n",
        "    data = json.loads(response.text)\n",
        "\n",
        "\n",
        "    for feature in data['features']:\n",
        "      coords = feature['geometry']['coordinates']\n",
        "      alert_data[alert_levels]['longitudes'].append(coords[0])\n",
        "      alert_data[alert_level]['latitudes'].append(coords[1])\n",
        "\n",
        "\n",
        "  for level in alert_levels:\n",
        "    fig, ax = plt.subplots()\n",
        "    ax.scatter(alert_data[alert_level]['longitudes'],\n",
        "               alert_data[alert_level]['latitudes'],\n",
        "               color=colors[alert_level],\n",
        "               label=f'{alert_level.capitalize()} Level',\n",
        "               alpha=0.7)\n",
        "\n",
        "\n",
        "  ax.set_xlabel(r'Longitude ($^o$)')\n",
        "  ax.set_ylabel(r'Latitude ($^o$)')\n",
        "  ax.set_title(f'Earthquakes by Alert Level from {start_date} to {end_date}')\n",
        "  ax.legend()\n",
        "  plt.grid(True)\n",
        "  plt.show()\n",
        "\n",
        "plot_all_alert_levels('2024-01-01', '2024-12-31')"
      ],
      "metadata": {
        "id": "QLyIyKi9yS4-",
        "outputId": "f3cc2994-d2ff-4eab-f96f-3b31d21a1456",
        "colab": {
          "base_uri": "https://localhost:8080/",
          "height": 292
        }
      },
      "execution_count": 4,
      "outputs": [
        {
          "output_type": "error",
          "ename": "UnboundLocalError",
          "evalue": "local variable 'level' referenced before assignment",
          "traceback": [
            "\u001b[0;31m---------------------------------------------------------------------------\u001b[0m",
            "\u001b[0;31mUnboundLocalError\u001b[0m                         Traceback (most recent call last)",
            "\u001b[0;32m<ipython-input-4-6c76f297ddf5>\u001b[0m in \u001b[0;36m<cell line: 40>\u001b[0;34m()\u001b[0m\n\u001b[1;32m     38\u001b[0m   \u001b[0mplt\u001b[0m\u001b[0;34m.\u001b[0m\u001b[0mshow\u001b[0m\u001b[0;34m(\u001b[0m\u001b[0;34m)\u001b[0m\u001b[0;34m\u001b[0m\u001b[0;34m\u001b[0m\u001b[0m\n\u001b[1;32m     39\u001b[0m \u001b[0;34m\u001b[0m\u001b[0m\n\u001b[0;32m---> 40\u001b[0;31m \u001b[0mplot_all_alert_levels\u001b[0m\u001b[0;34m(\u001b[0m\u001b[0;34m'2024-01-01'\u001b[0m\u001b[0;34m,\u001b[0m \u001b[0;34m'2024-12-31'\u001b[0m\u001b[0;34m)\u001b[0m\u001b[0;34m\u001b[0m\u001b[0;34m\u001b[0m\u001b[0m\n\u001b[0m",
            "\u001b[0;32m<ipython-input-4-6c76f297ddf5>\u001b[0m in \u001b[0;36mplot_all_alert_levels\u001b[0;34m(start_date, end_date)\u001b[0m\n\u001b[1;32m     10\u001b[0m \u001b[0;34m\u001b[0m\u001b[0m\n\u001b[1;32m     11\u001b[0m   \u001b[0;32mfor\u001b[0m \u001b[0malert_level\u001b[0m \u001b[0;32min\u001b[0m \u001b[0malert_levels\u001b[0m\u001b[0;34m:\u001b[0m\u001b[0;34m\u001b[0m\u001b[0;34m\u001b[0m\u001b[0m\n\u001b[0;32m---> 12\u001b[0;31m     \u001b[0mparams_dict\u001b[0m \u001b[0;34m=\u001b[0m \u001b[0;34m{\u001b[0m\u001b[0;34m'format'\u001b[0m\u001b[0;34m:\u001b[0m \u001b[0;34m'geojson'\u001b[0m\u001b[0;34m,\u001b[0m \u001b[0;34m'starttime'\u001b[0m\u001b[0;34m:\u001b[0m \u001b[0mstart_date\u001b[0m\u001b[0;34m,\u001b[0m \u001b[0;34m'endtime'\u001b[0m\u001b[0;34m:\u001b[0m \u001b[0mend_date\u001b[0m\u001b[0;34m,\u001b[0m \u001b[0;34m'alertlevel'\u001b[0m\u001b[0;34m:\u001b[0m \u001b[0mlevel\u001b[0m\u001b[0;34m}\u001b[0m\u001b[0;34m\u001b[0m\u001b[0;34m\u001b[0m\u001b[0m\n\u001b[0m\u001b[1;32m     13\u001b[0m     \u001b[0mresponse\u001b[0m \u001b[0;34m=\u001b[0m \u001b[0mrequests\u001b[0m\u001b[0;34m.\u001b[0m\u001b[0mget\u001b[0m\u001b[0;34m(\u001b[0m\u001b[0mapi_url\u001b[0m\u001b[0;34m,\u001b[0m \u001b[0mparams\u001b[0m \u001b[0;34m=\u001b[0m \u001b[0mparams_dict\u001b[0m\u001b[0;34m)\u001b[0m\u001b[0;34m\u001b[0m\u001b[0;34m\u001b[0m\u001b[0m\n\u001b[1;32m     14\u001b[0m \u001b[0;34m\u001b[0m\u001b[0m\n",
            "\u001b[0;31mUnboundLocalError\u001b[0m: local variable 'level' referenced before assignment"
          ]
        }
      ]
    }
  ]
}