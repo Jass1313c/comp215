{
  "nbformat": 4,
  "nbformat_minor": 0,
  "metadata": {
    "kernelspec": {
      "display_name": "Python 3",
      "language": "python",
      "name": "python3"
    },
    "language_info": {
      "codemirror_mode": {
        "name": "ipython",
        "version": 2
      },
      "file_extension": ".py",
      "mimetype": "text/x-python",
      "name": "python",
      "nbconvert_exporter": "python",
      "pygments_lexer": "ipython2",
      "version": "2.7.6"
    },
    "colab": {
      "provenance": [],
      "include_colab_link": true
    }
  },
  "cells": [
    {
      "cell_type": "markdown",
      "metadata": {
        "id": "view-in-github",
        "colab_type": "text"
      },
      "source": [
        "<a href=\"https://colab.research.google.com/github/Jass1313c/comp215/blob/main/labs/lab02-review.ipynb\" target=\"_parent\"><img src=\"https://colab.research.google.com/assets/colab-badge.svg\" alt=\"Open In Colab\"/></a>"
      ]
    },
    {
      "cell_type": "markdown",
      "source": [
        "COMP 215 - LAB 2\n",
        "----------------\n",
        "#### Name(s): Jaskaran Singh\n",
        "#### Date: 15 Jan 2025\n",
        "By the end of this lab you should be able to:\n",
        "  * use strings, tuples, lists, and dictionaries (review)\n",
        "  * use *f-string* to simplify string formatting operations\n",
        "  * write functions and simple unit tests (review)\n",
        "  * use *list comprehension* to implement map and filter algorithms\n",
        "\n",
        "\n",
        "During this lab, you will be introduced to the following:\n",
        "  * API Keys\n",
        "  * JSON data formats\n",
        "  * the `datetime` module to represent dates and times\n",
        "  * the `pprint` module to format data structures"
      ],
      "metadata": {
        "id": "nbRPZPKZU5Pk"
      }
    },
    {
      "cell_type": "markdown",
      "source": [
        "## Near Earth Objects\n",
        "\n",
        "In this lab, we'll answer some questions about [Near Earth Objects](https://cneos.jpl.nasa.gov/) using NASA's API:  [https://api.nasa.gov/](https://api.nasa.gov/#NeoWS).  But, as usual, let's do the imports first.\n"
      ],
      "metadata": {
        "id": "UtWS08rgocwz"
      }
    },
    {
      "cell_type": "code",
      "execution_count": 2,
      "outputs": [],
      "source": [
        "import datetime, json, requests\n",
        "from pprint import pprint    # Pretty Print - built-in python function to nicely format data structures"
      ],
      "metadata": {
        "pycharm": {
          "name": "#%%\n"
        },
        "ExecuteTime": {
          "end_time": "2024-01-04T04:05:38.688434Z",
          "start_time": "2024-01-04T04:05:38.640552Z"
        },
        "id": "uckgiW6LmxA_"
      }
    },
    {
      "cell_type": "markdown",
      "source": [
        "### dates & f-strings\n",
        "\n",
        "First we need a short tutorial on python dates and [f-strings](https://realpython.com/python-f-strings/)..."
      ],
      "metadata": {
        "collapsed": false,
        "pycharm": {
          "name": "#%% md\n"
        },
        "id": "z7R9AVbYmxBA"
      }
    },
    {
      "cell_type": "code",
      "execution_count": null,
      "outputs": [
        {
          "output_type": "stream",
          "name": "stdout",
          "text": [
            "2025-01-15 <class 'datetime.date'>\n",
            "Today is: 2025-01-15\n"
          ]
        }
      ],
      "source": [
        "today = datetime.date.today()   # get a date object representing today's date\n",
        "print(today, type(today))\n",
        "formatted_date = f'Today is: {today}'   # A format string - notice how the variable `today` is formatted into the string\n",
        "print(formatted_date)"
      ],
      "metadata": {
        "pycharm": {
          "name": "#%%\n"
        },
        "ExecuteTime": {
          "end_time": "2024-01-04T04:05:38.691283Z",
          "start_time": "2024-01-04T04:05:38.688366Z"
        },
        "colab": {
          "base_uri": "https://localhost:8080/"
        },
        "id": "FIqwOe5SmxBA",
        "outputId": "604b4632-ea21-44bc-8f45-2ecf4312f4af"
      }
    },
    {
      "cell_type": "markdown",
      "source": [
        "### Make an API Query\n",
        "\n",
        "Let's get some data from the NEO database; here's a query that gets the observation \"feed\" for today.  Notice the first line of the block is an 'API key'.  An API key is a unique identifier that authenticates a user when making a request to an API.  Run the block below using the API key 'DEMO_KEY' (just to be sure it works), then go to https://api.nasa.gov and get your own API key.  Use your own API key for the remainder of the lab."
      ],
      "metadata": {
        "collapsed": false,
        "pycharm": {
          "name": "#%% md\n"
        },
        "id": "NyY93KiOmxBB"
      }
    },
    {
      "cell_type": "code",
      "execution_count": 10,
      "outputs": [
        {
          "output_type": "stream",
          "name": "stdout",
          "text": [
            "14 Near Earth Objects found for 2023-01-09\n",
            "[{'absolute_magnitude_h': 19.62,\n",
            "  'close_approach_data': [{'close_approach_date': '2023-01-09',\n",
            "                           'close_approach_date_full': '2023-Jan-09 13:59',\n",
            "                           'epoch_date_close_approach': 1673272740000,\n",
            "                           'miss_distance': {'astronomical': '0.0725378623',\n",
            "                                             'kilometers': '10851509.694433301',\n",
            "                                             'lunar': '28.2172284347',\n",
            "                                             'miles': '6742815.4556135138'},\n",
            "                           'orbiting_body': 'Earth',\n",
            "                           'relative_velocity': {'kilometers_per_hour': '32387.3479203461',\n",
            "                                                 'kilometers_per_second': '8.9964855334',\n",
            "                                                 'miles_per_hour': '20124.2384897284'}}],\n",
            "  'estimated_diameter': {'feet': {'estimated_diameter_max': 2322.8706681664,\n",
            "                                  'estimated_diameter_min': 1038.8193433921},\n",
            "                         'kilometers': {'estimated_diameter_max': 0.708010957,\n",
            "                                        'estimated_diameter_min': 0.3166321257},\n",
            "                         'meters': {'estimated_diameter_max': 708.0109570008,\n",
            "                                    'estimated_diameter_min': 316.6321257337},\n",
            "                         'miles': {'estimated_diameter_max': 0.4399374764,\n",
            "                                   'estimated_diameter_min': 0.1967460206}},\n",
            "  'id': '2226554',\n",
            "  'is_potentially_hazardous_asteroid': True,\n",
            "  'is_sentry_object': False,\n",
            "  'links': {'self': 'http://api.nasa.gov/neo/rest/v1/neo/2226554?api_key=FpHspduD0qhuWvfzN4SKgIg3lzaVa1SgA9BaTJBk'},\n",
            "  'name': '226554 (2003 WR21)',\n",
            "  'nasa_jpl_url': 'https://ssd.jpl.nasa.gov/tools/sbdb_lookup.html#/?sstr=2226554',\n",
            "  'neo_reference_id': '2226554'}]\n"
          ]
        }
      ],
      "source": [
        "API_KEY = 'FpHspduD0qhuWvfzN4SKgIg3lzaVa1SgA9BaTJBk'  # substitute your API key here\n",
        "\n",
        "# get today's date (as a string)\n",
        "#today = str(datetime.date.today())\n",
        "today = '2023-01-09'\n",
        "\n",
        "# use an f-string to \"format\" the date and API key varaibles.\n",
        "url = f'https://api.nasa.gov/neo/rest/v1/feed?start_date={today}&end_date={today}&api_key={API_KEY}'\n",
        "\n",
        "# make the API request (recall from lab 1)\n",
        "response = requests.request(\"GET\", url, headers={}, data={})\n",
        "\n",
        "# convert the response to json format (recall from lab 1)\n",
        "data = json.loads(response.text)\n",
        "\n",
        "# TIP: print(data) to see the whole data structure returned, here we grab just the list of NEO's:\n",
        "n_results = data['element_count']\n",
        "neos = data['near_earth_objects'][today]\n",
        "print(f'{n_results} Near Earth Objects found for {today}')\n",
        "pprint(neos[:1])"
      ],
      "metadata": {
        "collapsed": true,
        "pycharm": {
          "name": "#%%\n"
        },
        "ExecuteTime": {
          "end_time": "2024-01-04T04:05:43.064157Z",
          "start_time": "2024-01-04T04:05:38.691252Z"
        },
        "id": "vZYx2VfXmxBB",
        "outputId": "a214d650-00e8-496d-b625-9aed826a8978",
        "colab": {
          "base_uri": "https://localhost:8080/"
        }
      }
    },
    {
      "cell_type": "markdown",
      "source": [
        "Next we extract just the potentially hazerdous asteroids, using a Comp115-style list accumulator *loop*:"
      ],
      "metadata": {
        "collapsed": false,
        "pycharm": {
          "name": "#%% md\n"
        },
        "id": "g7VOkS2PmxBB"
      }
    },
    {
      "cell_type": "code",
      "execution_count": 11,
      "metadata": {
        "id": "JDGbYTySU3BP",
        "ExecuteTime": {
          "end_time": "2024-01-04T04:05:43.065108Z",
          "start_time": "2024-01-04T04:05:43.062239Z"
        },
        "colab": {
          "base_uri": "https://localhost:8080/"
        },
        "outputId": "a5f05e95-a114-4f95-e526-6373bff1c44f"
      },
      "outputs": [
        {
          "output_type": "stream",
          "name": "stdout",
          "text": [
            "3 potentially hazardous asteroids identified.\n"
          ]
        }
      ],
      "source": [
        "hazards =  []\n",
        "for item in neos:\n",
        "  if item['is_potentially_hazardous_asteroid'] is True:\n",
        "    hazards.append(item)\n",
        "print(f'{len(hazards)} potentially hazardous asteroids identified.')"
      ]
    },
    {
      "cell_type": "markdown",
      "source": [
        "### Fetch Complete Data for One Asteroid\n",
        "\n",
        "Notice that the record for each `neo` is a dictionary with `id` field that uniquely identifies this record in the database.  We can use this `id` to fetch complete orbital and close approach data for the NEO.  For example, this query fetches the complete data set for the first hazardous asteroid...  Notice that the `miss_distance` field contains the distance (in various units) by which the NEO missed an \"orbiting body\".\n"
      ],
      "metadata": {
        "collapsed": false,
        "pycharm": {
          "name": "#%% md\n"
        },
        "id": "Um5gAiVTmxBC"
      }
    },
    {
      "cell_type": "code",
      "execution_count": null,
      "outputs": [],
      "source": [
        "id = hazards[0]['id']\n",
        "url = f'https://api.nasa.gov/neo/rest/v1/neo/{id}?api_key={API_KEY}'\n",
        "response = requests.request(\"GET\", url, headers={}, data={})\n",
        "data = json.loads(response.text)\n",
        "\n",
        "pprint(data)"
      ],
      "metadata": {
        "collapsed": true,
        "pycharm": {
          "name": "#%%\n"
        },
        "ExecuteTime": {
          "end_time": "2024-01-04T04:05:43.787125Z",
          "start_time": "2024-01-04T04:05:43.067936Z"
        },
        "id": "NVRl3l7EmxBC"
      }
    },
    {
      "cell_type": "markdown",
      "source": [
        "## Exercise 1\n",
        "\n",
        "In the code cell below, **re-write the accumulator loop** that creates the list of hazards as a [list comprehension](https://realpython.com/lessons/list-comprehensions-overview/) that implements a [\"filter\"](https://youtu.be/hUes6y2b--0)\n",
        "Notice how this provides a concise way to \"filter\" items of interest from a larger data set."
      ],
      "metadata": {
        "collapsed": false,
        "pycharm": {
          "name": "#%% md\n"
        },
        "id": "93ns5r8gmxBB"
      }
    },
    {
      "cell_type": "code",
      "execution_count": null,
      "outputs": [
        {
          "output_type": "stream",
          "name": "stdout",
          "text": [
            "3 potentially hazardous asteroids identified.\n"
          ]
        }
      ],
      "source": [
        "# Ex. 1 your code here\n",
        "hazards = [item for item in neos if item['is_potentially_hazardous_asteroid'] is True]\n",
        "print(f'{len(hazards)} potentially hazardous asteroids identified.')"
      ],
      "metadata": {
        "pycharm": {
          "name": "#%%\n"
        },
        "ExecuteTime": {
          "end_time": "2024-01-04T04:05:43.069849Z",
          "start_time": "2024-01-04T04:05:43.065922Z"
        },
        "id": "ewkwkc8wmxBB",
        "colab": {
          "base_uri": "https://localhost:8080/"
        },
        "outputId": "3f42272b-2bbd-403c-81e8-ebf973dd7e52"
      }
    },
    {
      "cell_type": "markdown",
      "source": [
        "\n",
        "\n",
        "## Exercise 2\n",
        "\n",
        "In the code cell below, write a python function that takes a list of \"close approach data\" as a parameter,\n",
        "and returns a 2-tuple with the (date, miss km) of the closest approach to Earth in the list (where \"miss km\" is the miss distance in km).\n",
        "\n",
        "Hints:\n",
        "* notice the input is a list of dictionaries.  Each dictionary has a 'close_approach_date\", \"orbiting_body\", and 'miss_distance' field.\n",
        "* we are only interested in the closest approach to \"Earth\"\n",
        "\n",
        "\n",
        "Add at least one unit test to check your work - note the test data only needs dictionaries with the fields your function actually uses.\n"
      ],
      "metadata": {
        "id": "DNRs7ynOYwYk"
      }
    },
    {
      "cell_type": "code",
      "source": [
        "# Ex. 2 your code here\n",
        "def closest_approach(close_approach_data):\n",
        "  closest_approach_date = None\n",
        "  closest_miss_distance = float('inf')\n",
        "\n",
        "  for approach in close_approach_data:\n",
        "    if approach['orbiting_body'] == 'Earth':\n",
        "      miss_distance = float(approach['miss_distance']['kilometers'])\n",
        "      if miss_distance < closest_miss_distance:\n",
        "        closest_miss_distance = miss_distance\n",
        "        closest_approach_date = approach['close_approach_date']\n",
        "  if closest_approach_date is not None:\n",
        "    return (closest_approach_date, closest_miss_distance)\n",
        "  else:\n",
        "    return None\n",
        "\n",
        "\n",
        "def test_closest_approach():\n",
        "  test_data = [\n",
        "        {'close_approach_date': '2023-01-10', 'orbiting_body': 'Earth', 'miss_distance': {'kilometers': '73573047.549994695'}},\n",
        "        {'close_approach_date': '2023-01-15', 'orbiting_body': 'Mars', 'miss_distance': {'kilometers': '5000000'}},\n",
        "        {'close_approach_date': '2023-01-20', 'orbiting_body': 'Earth', 'miss_distance': {'kilometers': '13746025.639181368'}}\n",
        "  ]\n",
        "  actual_result = closest_approach(test_data)\n",
        "  assert actual_result == ('2023-01-20', 13746025.639181368), f\"Expected {('2023-01-20', 13746025.639181368)}, but got {actual_result}\"\n",
        "\n",
        "  print(\"All test cases passed!\")  # Indicate successful test completion\n",
        "\n",
        "\n",
        "test_closest_approach()\n"
      ],
      "metadata": {
        "id": "tiyXTDfnZAd0",
        "ExecuteTime": {
          "end_time": "2024-01-04T04:05:43.790535Z",
          "start_time": "2024-01-04T04:05:43.787064Z"
        },
        "colab": {
          "base_uri": "https://localhost:8080/"
        },
        "outputId": "a320c704-9d60-48b1-f41c-5183df5d2c1e"
      },
      "execution_count": 8,
      "outputs": [
        {
          "output_type": "stream",
          "name": "stdout",
          "text": [
            "All test cases passed!\n"
          ]
        }
      ]
    },
    {
      "cell_type": "markdown",
      "source": [],
      "metadata": {
        "id": "HAm-5t90bbZ9"
      }
    },
    {
      "cell_type": "code",
      "source": [
        "from datetime import date, timedelta\n",
        "import datetime, json, requests\n",
        "from pprint import pprint"
      ],
      "metadata": {
        "id": "oPNOxVCCbaw1"
      },
      "execution_count": 13,
      "outputs": []
    },
    {
      "cell_type": "markdown",
      "source": [
        "## Challenge Exercise\n",
        "\n",
        "In the code cell below, write a complete program that:\n",
        " 1. fetches the list of NEO's for this week.\n",
        " 2. for each NEO, fetch it's complete orbital data and determine its closest approach to Earth\n",
        " 3. identify which NEO from this week's data makes the closet approach to earth\n",
        " 4. print a nice message with information about the NEO, which it will approach the Earth, and how close it will come.\n",
        "\n",
        "Hints:\n",
        "* you'll need the start and end date - end date is today, see if you can use a [`timedelta`](https://docs.python.org/3/library/datetime.html#timedelta-objects) object to ge the start date (you can do basic \"date math\" with `timedelta` and `date` objects!)\n",
        "* you may need to modify the function we wrote in Ex. 2 to return a triple with the NEO's id included;\n",
        "* lots of opportunity here for more practice with list comprehensions\n"
      ],
      "metadata": {
        "collapsed": false,
        "id": "BrVVSFCnmxBC"
      }
    },
    {
      "cell_type": "code",
      "source": [
        "# Ex. 3 (challenge) your code here\n",
        "# Calculate start and end dates\n",
        "today = datetime.date.today()\n",
        "start_date = today - timedelta(days=today.weekday())\n",
        "end_date = today\n",
        "\n",
        "# Fetch list of NEOs for this week\n",
        "\n",
        "API_KEY = 'FpHspduD0qhuWvfzN4SKgIg3lzaVa1SgA9BaTJBk'\n",
        "url = f'https://api.nasa.gov/neo/rest/v1/feed?start_date={start_date}&end_date={end_date}&api_key={API_KEY}'\n",
        "response = requests.request(\"GET\", url, headers={}, data={})\n",
        "data = json.loads(response.text)\n",
        "neos_week = data['near_earth_objects']\n",
        "\n",
        "# Function to get closest approach data for a NEO\n",
        "\n",
        "def closest_approach(neo_id):\n",
        "\n",
        "  url = f'https://api.nasa.gov/neo/rest/v1/neo/{neo_id}?api_key={API_KEY}'\n",
        "  response = requests.request(\"GET\", url, headers={}, data={})\n",
        "  data = json.loads(response.text)\n",
        "  close_approach_data = data['close_approach_data']\n",
        "\n",
        "  closest_approach_date = None\n",
        "  closest_miss_distance = float('inf')\n",
        "  for approach in close_approach_data:\n",
        "    if approach['orbiting_body'] == 'Earth':\n",
        "      miss_distance = float(approach['miss_distance']['kilometers'])\n",
        "      if miss_distance < closest_miss_distance:\n",
        "        closest_miss_distance = miss_distance\n",
        "        closest_approach_date = approach['close_approach_date']\n",
        "\n",
        "  if closest_approach_date is not None:\n",
        "    return (neo_id, closest_approach_date, closest_miss_distance)\n",
        "  else:\n",
        "    return None\n",
        "\n",
        "# Get closest approaches for all NEOs this week\n",
        "closest_approaches = [closest_approach(neo['id']) for day_neos in neos_week.values() for neo in day_neos]\n",
        "closest_approaches = [approach for approach in closest_approaches if approach is not None]\n",
        "\n",
        "# Find the NEO with the closest approach\n",
        "closest_neo = None\n",
        "min_distance = float('inf')\n",
        "for approach in closest_approaches:\n",
        "    if approach[2] < min_distance:\n",
        "        min_distance = approach[2]\n",
        "        closest_neo = approach\n",
        "\n",
        "# Print the result\n",
        "print(f\"The NEO with the closest approach this week is {closest_neo[0]}.\")\n",
        "print(f\"It will approach Earth on {closest_neo[1]} at a distance of {closest_neo[2]} kilometers.\")\n"
      ],
      "metadata": {
        "id": "Ds1YevErlzCe",
        "pycharm": {
          "name": "#%%\n"
        },
        "ExecuteTime": {
          "end_time": "2024-01-04T04:05:43.790766Z",
          "start_time": "2024-01-04T04:05:43.789211Z"
        },
        "outputId": "36d57294-68b4-4528-dbab-05b9dd937d0f",
        "colab": {
          "base_uri": "https://localhost:8080/"
        }
      },
      "execution_count": 16,
      "outputs": [
        {
          "output_type": "stream",
          "name": "stdout",
          "text": [
            "The NEO with the closest approach this week is 54143420.\n",
            "It will approach Earth on 2054-12-10 at a distance of 109331.493959533 kilometers.\n"
          ]
        }
      ]
    }
  ]
}